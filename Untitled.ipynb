{
 "cells": [
  {
   "cell_type": "code",
   "execution_count": 1,
   "metadata": {},
   "outputs": [],
   "source": [
    "# dependencies\n",
    "import pandas as pd\n",
    "import numpy as np\n",
    "import sqlalchemy\n",
    "from sqlalchemy.ext.automap import automap_base\n",
    "from sqlalchemy.orm import Session\n",
    "from sqlalchemy import create_engine, inspect, join, outerjoin, MetaData, Table"
   ]
  },
  {
   "cell_type": "code",
   "execution_count": 2,
   "metadata": {},
   "outputs": [],
   "source": [
    "class SatLauch():\n",
    "\n",
    "    def __init__(self, connect_string):\n",
    "        self.engine = create_engine(connect_string)\n",
    "        # self.conn = self.engine.connect()\n",
    "        self.connect_string = connect_string\n",
    "        self.inspector = inspect(self.engine)\n",
    "        self.tables = self.inspector.get_table_names()\n",
    "        self.Base = automap_base()\n",
    "        self.Base.prepare(self.engine, reflect=True)\n",
    "        self.Master = self.Base.classes['UCS_Satellite_Master']\n",
    "        self.DemoGData = self.Base.classes['demoGData']\n",
    "        self.LauchDate = self.Base.classes['lauchDate']\n",
    "        self.SatCount40yr = self.Base.classes['satCount40yr']\n",
    "        self.meta = MetaData()\n",
    "        \n",
    "    def display_db_info(self):\n",
    "        inspector = inspect(self.engine)\n",
    "        tables = self.inspector.get_table_names()\n",
    "        for table in self.tables:\n",
    "            print(\"\\n\")\n",
    "            print('=' * 12)\n",
    "            print(f\"Table '{table}' has the following columns: \")\n",
    "            print('-' * 12)\n",
    "            for column in self.inspector.get_columns(table):\n",
    "                print(f\"name: {column['name']}   column type: {column['type']}\")\n",
    "    \n",
    "    def get_satellite_names(self):\n",
    "        session = Session(self.engine)\n",
    "\n",
    "        results = session.query(self.demoGData.Satellite_Names)\n",
    "            \n",
    "        df = pd.read_sql(results.statement, session.connection())\n",
    "\n",
    "        session.close()  \n",
    "        return list(df.Satellite_Names)\n",
    "                      \n",
    "    "
   ]
  },
  {
   "cell_type": "code",
   "execution_count": null,
   "metadata": {},
   "outputs": [],
   "source": []
  }
 ],
 "metadata": {
  "kernelspec": {
   "display_name": "Python 3",
   "language": "python",
   "name": "python3"
  },
  "language_info": {
   "codemirror_mode": {
    "name": "ipython",
    "version": 3
   },
   "file_extension": ".py",
   "mimetype": "text/x-python",
   "name": "python",
   "nbconvert_exporter": "python",
   "pygments_lexer": "ipython3",
   "version": "3.7.4"
  }
 },
 "nbformat": 4,
 "nbformat_minor": 2
}
