{
 "cells": [
  {
   "cell_type": "markdown",
   "metadata": {},
   "source": [
    "# Objectives:\n",
    "* Importing raw CSV Master Data Table\n",
    "* Removing comma seperation for number >1000\n",
    "* Selectively choosing and exporting data pertinent to the planned visualizations\n",
    "* Splitting one series to multiple, convert data type\n",
    "* Performing quick value_counts for some columns"
   ]
  },
  {
   "cell_type": "markdown",
   "metadata": {},
   "source": [
    "## Import Dependencies"
   ]
  },
  {
   "cell_type": "code",
   "execution_count": 1,
   "metadata": {},
   "outputs": [],
   "source": [
    "import pandas as pd\n",
    "import csv\n",
    "import os\n",
    "import datetime"
   ]
  },
  {
   "cell_type": "markdown",
   "metadata": {},
   "source": [
    "## Import CSV"
   ]
  },
  {
   "cell_type": "code",
   "execution_count": 2,
   "metadata": {},
   "outputs": [
    {
     "name": "stdout",
     "output_type": "stream",
     "text": [
      "Data\\UCS-Satellite_Master.csv\n"
     ]
    }
   ],
   "source": [
    "csv_path = os.path.join (\"Data\", \"UCS-Satellite_Master.csv\")\n",
    "print (csv_path)"
   ]
  },
  {
   "cell_type": "code",
   "execution_count": 3,
   "metadata": {},
   "outputs": [],
   "source": [
    "with open (csv_path, \"r\", encoding=\"UTF-8\", newline=\"\") as file_handler:\n",
    "    data = csv.reader(file_handler, delimiter=\",\")"
   ]
  },
  {
   "cell_type": "code",
   "execution_count": 4,
   "metadata": {},
   "outputs": [],
   "source": [
    "# unicode_escape is used as there are other non-ASCII characters \n",
    "df = pd.read_csv(csv_path, index_col=0, encoding= 'unicode_escape')"
   ]
  },
  {
   "cell_type": "code",
   "execution_count": 5,
   "metadata": {},
   "outputs": [],
   "source": [
    "# reset default index\n",
    "# create new columns called Orig_Sequence to make sure even when data is splitting\n",
    "# the order of the original data is preserved\n",
    "df.reset_index(inplace=True)\n",
    "df[\"Orig_Sequence\"] = df.index"
   ]
  },
  {
   "cell_type": "code",
   "execution_count": 6,
   "metadata": {},
   "outputs": [
    {
     "data": {
      "text/plain": [
       "Index(['Satellite_Names', 'Country_of_Operator_Owner', 'Operator_Owner',\n",
       "       'Users_Names', 'Purpose', 'Orbit_Classes', 'Orbit_Types', 'Perigee_km',\n",
       "       'Apogee_km', 'Inclination_degrees', 'Period_minutes', 'Launch_Mass_km',\n",
       "       'Dry_Mass_kg', 'Power_watts', 'Launch_Date', 'Expected_Lifetime_years',\n",
       "       'Contractors_Names', 'Contractors_Country_Names', 'Launch_Site',\n",
       "       'Launch_Vehicle', 'COSPAR_Number', 'NORAD_Number', 'Comments',\n",
       "       'Orig_Sequence'],\n",
       "      dtype='object')"
      ]
     },
     "execution_count": 6,
     "metadata": {},
     "output_type": "execute_result"
    }
   ],
   "source": [
    "df.columns"
   ]
  },
  {
   "cell_type": "code",
   "execution_count": 7,
   "metadata": {},
   "outputs": [],
   "source": [
    "# new sliced table called Sat_40_yr :: \n",
    "# the historical countries that have satellite in the last 40 years\n",
    "Sat_40_yr = df[[\"Orig_Sequence\", \"Country_of_Operator_Owner\"]]"
   ]
  },
  {
   "cell_type": "code",
   "execution_count": 8,
   "metadata": {},
   "outputs": [],
   "source": [
    "Sat_count_40yr = Sat_40_yr['Country_of_Operator_Owner'].value_counts(dropna=True).to_frame()\n",
    "Sat_count_40yr.reset_index(inplace=True)"
   ]
  },
  {
   "cell_type": "code",
   "execution_count": 9,
   "metadata": {},
   "outputs": [],
   "source": [
    "Sat_count_40yr.rename(columns={\"index\":\"Country_of_Operator_Owner\", \"Country_of_Operator_Owner\":\"Value_Counts\"}, inplace=True)"
   ]
  },
  {
   "cell_type": "code",
   "execution_count": 10,
   "metadata": {},
   "outputs": [],
   "source": [
    "# export to csv\n",
    "Sat_count_40yr.to_csv(os.path.join(\"Data\", \"satCount40yr.csv\"))"
   ]
  },
  {
   "cell_type": "code",
   "execution_count": 11,
   "metadata": {},
   "outputs": [],
   "source": [
    "# new sliced table to contains launch date and broken down to 3 more columns\n",
    "# day, month, and year\n",
    "df['Launch_Date'] = pd.to_datetime(df['Launch_Date'])"
   ]
  },
  {
   "cell_type": "code",
   "execution_count": 12,
   "metadata": {},
   "outputs": [],
   "source": [
    "df[\"Launch_Day\"] = df[\"Launch_Date\"].dt.day\n",
    "df[\"Launch_Month\"] = df[\"Launch_Date\"].dt.month\n",
    "df[\"Launch_Year\"] = df[\"Launch_Date\"].dt.year\n",
    "Launch_Date = df[[\"Launch_Date\", \"Launch_Day\", \"Launch_Month\",\"Launch_Year\"]]"
   ]
  },
  {
   "cell_type": "code",
   "execution_count": 13,
   "metadata": {},
   "outputs": [],
   "source": [
    "# export to csv\n",
    "Launch_Date.to_csv(os.path.join(\"Data\", \"launchDate.csv\"))"
   ]
  },
  {
   "cell_type": "code",
   "execution_count": 14,
   "metadata": {},
   "outputs": [],
   "source": [
    "# new sliced table for demographic information of each satellite names\n",
    "demoGData = df[['Orig_Sequence', 'Satellite_Names', 'Launch_Date', 'Country_of_Operator_Owner', 'Launch_Site', 'Operator_Owner',\n",
    "       'Purpose', 'Orbit_Classes', 'Period_minutes', 'Launch_Mass_km',\n",
    "       ]]\n"
   ]
  },
  {
   "cell_type": "code",
   "execution_count": 15,
   "metadata": {},
   "outputs": [
    {
     "name": "stderr",
     "output_type": "stream",
     "text": [
      "C:\\ProgramData\\Anaconda3\\lib\\site-packages\\ipykernel_launcher.py:1: SettingWithCopyWarning: \n",
      "A value is trying to be set on a copy of a slice from a DataFrame.\n",
      "Try using .loc[row_indexer,col_indexer] = value instead\n",
      "\n",
      "See the caveats in the documentation: http://pandas.pydata.org/pandas-docs/stable/user_guide/indexing.html#returning-a-view-versus-a-copy\n",
      "  \"\"\"Entry point for launching an IPython kernel.\n"
     ]
    }
   ],
   "source": [
    "# remove comma thoudsand seperator, then convert from string to float\n",
    "demoGData['Period_minutes'] = round(demoGData['Period_minutes'].str.replace(',', '', regex=True).astype('float'),2)"
   ]
  },
  {
   "cell_type": "code",
   "execution_count": 16,
   "metadata": {},
   "outputs": [],
   "source": [
    "# create new columns period hours from minutes\n",
    "demoGData.insert(8, \"Period_Hours\", round(demoGData['Period_minutes']/60,2), allow_duplicates = False)"
   ]
  },
  {
   "cell_type": "code",
   "execution_count": 18,
   "metadata": {},
   "outputs": [],
   "source": [
    "# export to csv\n",
    "demoGData.to_csv(os.path.join(\"Data\", \"demoGData.csv\"))"
   ]
  }
 ],
 "metadata": {
  "kernelspec": {
   "display_name": "Python 3",
   "language": "python",
   "name": "python3"
  },
  "language_info": {
   "codemirror_mode": {
    "name": "ipython",
    "version": 3
   },
   "file_extension": ".py",
   "mimetype": "text/x-python",
   "name": "python",
   "nbconvert_exporter": "python",
   "pygments_lexer": "ipython3",
   "version": "3.7.4"
  }
 },
 "nbformat": 4,
 "nbformat_minor": 2
}
